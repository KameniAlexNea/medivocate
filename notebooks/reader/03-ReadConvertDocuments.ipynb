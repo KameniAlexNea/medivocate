{
 "cells": [
  {
   "cell_type": "code",
   "execution_count": 1,
   "metadata": {},
   "outputs": [
    {
     "name": "stdout",
     "output_type": "stream",
     "text": [
      "/home/eak/Documents/AI/LLMChat/medivocate\n"
     ]
    }
   ],
   "source": [
    "%cd ../.."
   ]
  },
  {
   "cell_type": "code",
   "execution_count": 2,
   "metadata": {},
   "outputs": [],
   "source": [
    "from src.ocr.src.reader.reader_engine import PDFReader\n",
    "\n",
    "\n",
    "FOLDER = \"data/documents/Books-20241230T221508Z-001/Books\"\n",
    "\n",
    "reader = PDFReader()"
   ]
  },
  {
   "cell_type": "code",
   "execution_count": 3,
   "metadata": {},
   "outputs": [
    {
     "data": {
      "text/plain": [
       "30"
      ]
     },
     "execution_count": 3,
     "metadata": {},
     "output_type": "execute_result"
    }
   ],
   "source": [
    "import os\n",
    "from glob import glob\n",
    "\n",
    "len(glob(os.path.join(FOLDER, \"*.pdf\")))"
   ]
  },
  {
   "cell_type": "code",
   "execution_count": 4,
   "metadata": {},
   "outputs": [
    {
     "name": "stderr",
     "output_type": "stream",
     "text": [
      "100%|██████████| 67/67 [00:00<00:00, 74127.77it/s]\n",
      "100%|██████████| 28/28 [00:00<00:00, 99273.47it/s]\n",
      "100%|██████████| 27/27 [00:00<00:00, 129276.49it/s]\n",
      "100%|██████████| 28/28 [00:00<00:00, 97.58it/s]\n",
      "100%|██████████| 43/43 [00:00<00:00, 188458.80it/s]\n",
      "100%|██████████| 69/69 [00:00<00:00, 440.22it/s]\n",
      "100%|██████████| 58/58 [00:00<00:00, 141600.48it/s]\n",
      "100%|██████████| 8/8 [00:00<00:00, 53430.62it/s]\n",
      "100%|██████████| 18/18 [00:00<00:00, 80573.61it/s]\n",
      "100%|██████████| 53/53 [00:00<00:00, 223865.17it/s]\n",
      "100%|██████████| 21/21 [00:00<00:00, 137625.60it/s]\n",
      "100%|██████████| 59/59 [00:00<00:00, 1976.45it/s]\n",
      "100%|██████████| 20/20 [00:00<00:00, 104596.11it/s]\n",
      "100%|██████████| 36/36 [00:00<00:00, 206842.39it/s]\n",
      "100%|██████████| 44/44 [00:00<00:00, 16443.85it/s]\n",
      "100%|██████████| 13/13 [00:00<00:00, 111050.82it/s]\n",
      "100%|██████████| 56/56 [00:00<00:00, 245434.72it/s]\n",
      "100%|██████████| 9/9 [00:00<00:00, 75196.69it/s]\n",
      "100%|██████████| 10/10 [00:00<00:00, 63840.24it/s]\n",
      "100%|██████████| 10/10 [00:00<00:00, 101311.69it/s]\n",
      "100%|██████████| 23/23 [00:00<00:00, 104971.70it/s]\n",
      "100%|██████████| 3/3 [00:00<00:00, 35544.95it/s]\n",
      "100%|██████████| 17/17 [00:00<00:00, 76016.17it/s]\n",
      "100%|██████████| 20/20 [00:00<00:00, 111550.64it/s]\n",
      "100%|██████████| 1/1 [00:00<00:00, 9664.29it/s]\n",
      "100%|██████████| 50/50 [00:00<00:00, 6426.08it/s]\n",
      "100%|██████████| 8/8 [00:00<00:00, 67513.95it/s]\n",
      "100%|██████████| 58/58 [00:00<00:00, 123.16it/s]\n",
      "100%|██████████| 16/16 [00:00<00:00, 79796.51it/s]\n",
      "100%|██████████| 38/38 [00:00<00:00, 212795.13it/s]\n",
      "100%|██████████| 30/30 [00:31<00:00,  1.06s/it]\n"
     ]
    }
   ],
   "source": [
    "reader.convert_documents_to_text(FOLDER, batch_size=16)"
   ]
  },
  {
   "cell_type": "code",
   "execution_count": null,
   "metadata": {},
   "outputs": [],
   "source": []
  }
 ],
 "metadata": {
  "kernelspec": {
   "display_name": ".venv",
   "language": "python",
   "name": "python3"
  },
  "language_info": {
   "codemirror_mode": {
    "name": "ipython",
    "version": 3
   },
   "file_extension": ".py",
   "mimetype": "text/x-python",
   "name": "python",
   "nbconvert_exporter": "python",
   "pygments_lexer": "ipython3",
   "version": "3.9.16"
  }
 },
 "nbformat": 4,
 "nbformat_minor": 2
}
