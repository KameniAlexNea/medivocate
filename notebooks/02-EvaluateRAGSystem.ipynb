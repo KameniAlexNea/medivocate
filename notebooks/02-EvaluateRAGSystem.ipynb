{
 "cells": [
  {
   "cell_type": "code",
   "execution_count": 1,
   "metadata": {},
   "outputs": [
    {
     "name": "stdout",
     "output_type": "stream",
     "text": [
      "/home/eak/Documents/AI/LLMChat/medivocate\n"
     ]
    }
   ],
   "source": [
    "%cd .."
   ]
  },
  {
   "cell_type": "code",
   "execution_count": 2,
   "metadata": {},
   "outputs": [],
   "source": [
    "import os\n",
    "from glob import glob\n",
    "from src.rag_pipeline.rag_system import RAGSystem"
   ]
  },
  {
   "cell_type": "code",
   "execution_count": 3,
   "metadata": {},
   "outputs": [],
   "source": [
    "docs_dir=\"data/docs\"\n",
    "persist_directory_dir=\"data/chroma_db\"\n",
    "batch_size=64\n",
    "\n",
    "# Initialize RAG system\n",
    "rag = RAGSystem(\n",
    "    docs_dir,\n",
    "    persist_directory_dir,\n",
    "    batch_size\n",
    ")\n",
    "\n",
    "if len(glob(os.path.join(persist_directory_dir, \"*/*.bin\"))):\n",
    "    rag.initialize_vector_store() # vector store initialized\n",
    "else:\n",
    "    # Load and index documents\n",
    "    documents = rag.load_documents()\n",
    "    rag.initialize_vector_store(documents) # documents"
   ]
  },
  {
   "cell_type": "code",
   "execution_count": 4,
   "metadata": {},
   "outputs": [
    {
     "data": {
      "text/plain": [
       "45"
      ]
     },
     "execution_count": 4,
     "metadata": {},
     "output_type": "execute_result"
    }
   ],
   "source": [
    "import os\n",
    "import glob\n",
    "import re\n",
    "\n",
    "def parse_questions_answers_with_regex_file(file):\n",
    "    question_pattern = re.compile(r\"<question>(.*?)</question>\", re.DOTALL)\n",
    "    answer_pattern = re.compile(r\"<answer>(.*?)</answer>\", re.DOTALL)\n",
    "    qa_list = []\n",
    "\n",
    "    try:\n",
    "        with open(file, \"r\", encoding=\"utf-8\") as f:\n",
    "            content = f.read()\n",
    "        \n",
    "        # Find all questions and answers in the file\n",
    "        questions = question_pattern.findall(content)\n",
    "        answers = answer_pattern.findall(content)\n",
    "\n",
    "        assert len(questions) == len(answers)\n",
    "\n",
    "        # Pair questions and answers\n",
    "        qa_list.extend(zip(map(str.strip, questions), map(str.strip, answers)))\n",
    "    except Exception as e:\n",
    "        print(f\"Error processing file {file}: {e}\")\n",
    "    return qa_list\n",
    "\n",
    "def parse_questions_answers_with_regex(folder_path):\n",
    "    \"\"\"\n",
    "    Parse question-answer pairs from XML-like text files using regex.\n",
    "\n",
    "    Args:\n",
    "        folder_path (str): Path to the folder containing XML-like text files.\n",
    "\n",
    "    Returns:\n",
    "        list of tuples: Each tuple contains a question and its corresponding answer.\n",
    "    \"\"\"\n",
    "    # List all text files in the folder\n",
    "    files = glob.glob(os.path.join(folder_path, \"*.txt\"))\n",
    "    qa_list = []\n",
    "\n",
    "    for file in files:\n",
    "        qa_list.extend(parse_questions_answers_with_regex_file(file))\n",
    "\n",
    "    return qa_list\n",
    "\n",
    "\n",
    "# Parse the question-answer pairs\n",
    "questions_answers = parse_questions_answers_with_regex(\"data/evaluation\")\n",
    "\n",
    "len(questions_answers)\n"
   ]
  },
  {
   "cell_type": "code",
   "execution_count": 5,
   "metadata": {},
   "outputs": [
    {
     "data": {
      "text/plain": [
       "[('How did specialization in crafts like tanning, weaving, and pottery contribute to economic diversity within the Hawsa region?',\n",
       "  'The specialization of certain groups in specific crafts allowed for a more diverse range of products, from textiles and jewelry to agricultural surplus and artisanal goods, which supported both local consumption and trade.'),\n",
       " ('What role did the Kebbi and Zamfara regions play in the Hawsa economy based on the information provided?',\n",
       "  'The Kebbi region focused on tanning, weaving, and pottery, while the Zamfara region specialized in silver jewelry and pottery. Both areas contributed to the regional economy through their unique crafts and products.')]"
      ]
     },
     "execution_count": 5,
     "metadata": {},
     "output_type": "execute_result"
    }
   ],
   "source": [
    "questions_answers[:2]"
   ]
  },
  {
   "cell_type": "code",
   "execution_count": 6,
   "metadata": {},
   "outputs": [
    {
     "name": "stdout",
     "output_type": "stream",
     "text": [
      "Specialization in crafts such as tanning, weaving, and pottery contributed significantly to economic diversity within the Hawsa region by offering a range of products that could be traded. These crafts provided raw materials for other industries like clothing production, which was highly valued due to its quality. The variety of objects produced allowed the Hawsa region to engage in extensive trade networks with both local and international markets.\n",
      "\n",
      "The specialization in these crafts also created distinct economic niches within the community. For instance, tanning contributed to leather goods manufacturing, weaving facilitated textile production, and pottery was integral to household items and possibly decorative arts. Each craft not only provided a means of livelihood but also allowed for the creation of specialized skills that could be traded or sold.\n",
      "\n",
      "Moreover, these crafts often required specific resources like hides, fibers, and clay, which were available locally due to specialization. This self-sufficiency in resource provision further supported economic diversity by reducing dependency on external goods.\n",
      "\n",
      "In summary, specialization in crafts within the Hawsa region fostered a diverse economy through varied product offerings, skilled labor, and local resource management, all of which contributed to its vibrant trade networks.\n"
     ]
    }
   ],
   "source": [
    "response = rag.query(questions_answers[0][0])\n",
    "print(response[\"answer\"])"
   ]
  },
  {
   "cell_type": "code",
   "execution_count": 7,
   "metadata": {},
   "outputs": [
    {
     "name": "stdout",
     "output_type": "stream",
     "text": [
      "The specialization of certain groups in specific crafts allowed for a more diverse range of products, from textiles and jewelry to agricultural surplus and artisanal goods, which supported both local consumption and trade.\n"
     ]
    }
   ],
   "source": [
    "print(questions_answers[0][1])"
   ]
  },
  {
   "cell_type": "code",
   "execution_count": 8,
   "metadata": {},
   "outputs": [],
   "source": [
    "import random\n",
    "\n",
    "query, correct = random.choice(questions_answers)"
   ]
  },
  {
   "cell_type": "code",
   "execution_count": 9,
   "metadata": {},
   "outputs": [
    {
     "name": "stdout",
     "output_type": "stream",
     "text": [
      "The nature of African states changed significantly over time in several key ways:\n",
      "\n",
      "1. Complexity and Diversity: Initially, African societies were often seen as simple chiefdoms or tribal groups. However, research has revealed a much more complex and diverse range of political structures, including kingdoms, empires, city-states, and federations.\n",
      "\n",
      "2. State Formation: Over centuries, many pre-state-level societies evolved into states with defined territories, bureaucracies, and ruling elites. This process was often gradual rather than sudden.\n",
      "\n",
      "3. Centralization vs Decentralization: Some African states became highly centralized, with strong monarchs or councils exercising control over large areas. Others maintained more decentralized structures, with local chiefs or councils holding significant power.\n",
      "\n",
      "4. Military Organization: States developed sophisticated military organizations to defend their territories and expand influence. This included standing armies, professional soldiers, and often a system of conscription.\n",
      "\n",
      "5. Economic Systems: African states evolved different economic systems as they grew in size and complexity. Some relied heavily on agriculture, while others incorporated trade, mining, or craft production into their economies.\n",
      "\n",
      "6. Religious Integration: Many state-level societies integrated religious institutions more deeply into their governance structures over time, often creating a fusion of secular and sacred authority.\n",
      "\n",
      "7. Cultural Synthesis: States fostered cultural synthesis by incorporating diverse ethnic groups within their territories, leading to the development of new cultural forms that blended local traditions with those of ruling elites.\n",
      "\n",
      "8. Legal Systems: As states grew in size and complexity, they developed more formalized legal systems to regulate social interactions, property rights, and disputes.\n",
      "\n",
      "9. Technological Innovations: States often led or facilitated technological innovations as they expanded their control over resources and labor.\n",
      "\n",
      "10. Environmental Impact: The rise of larger states sometimes had significant environmental impacts on the landscapes they controlled, including deforestation, soil degradation, and resource depletion.\n",
      "\n",
      "These changes reflect how African societies adapted to various challenges and opportunities throughout history, leading to a rich tapestry of state forms across the continent.\n"
     ]
    }
   ],
   "source": [
    "response = rag.query(query)\n",
    "print(response[\"answer\"])"
   ]
  },
  {
   "cell_type": "code",
   "execution_count": 10,
   "metadata": {},
   "outputs": [
    {
     "name": "stdout",
     "output_type": "stream",
     "text": [
      "States became more hierarchical with central authority replacing traditional clan or community leadership. New forms of governance emerged, including makhzen maghrébins, mansaya, and emirates, reflecting changes in power dynamics.\n"
     ]
    }
   ],
   "source": [
    "print(correct)"
   ]
  },
  {
   "cell_type": "code",
   "execution_count": 11,
   "metadata": {},
   "outputs": [
    {
     "data": {
      "text/plain": [
       "'In what ways did the nature of African states change over time?'"
      ]
     },
     "execution_count": 11,
     "metadata": {},
     "output_type": "execute_result"
    }
   ],
   "source": [
    "query"
   ]
  },
  {
   "cell_type": "code",
   "execution_count": 12,
   "metadata": {},
   "outputs": [
    {
     "name": "stdout",
     "output_type": "stream",
     "text": [
      "Based on the information provided, Undi's control over Nsenga territories likely manifested in practice through a system of tribute and military enforcement. The passage states that \"Undi was able to exact tribute from the Nsenga, who were not his subjects,\" suggesting he maintained influence or authority without formal sovereignty. Additionally, it mentions that \"he had to use force to keep them under control,\" indicating that Undi likely used military means to enforce compliance and maintain his power over these territories.\n",
      "\n",
      "The text also notes that \"Undi was able to exact tribute from the Nsenga, who were not his subjects,\" which implies a form of indirect rule or control. This suggests that Undi maintained influence over the Nsenga by collecting tributes without having formal authority over them, and likely used force to ensure their compliance.\n",
      "\n",
      "In summary, Undi's control was characterized by the use of tribute collection as well as military enforcement to maintain his power in territories he did not formally govern.\n"
     ]
    }
   ],
   "source": [
    "query, correct = random.choice(questions_answers)\n",
    "\n",
    "response = rag.query(query)\n",
    "print(response[\"answer\"])"
   ]
  },
  {
   "cell_type": "code",
   "execution_count": 13,
   "metadata": {},
   "outputs": [
    {
     "name": "stdout",
     "output_type": "stream",
     "text": [
      "Undi may have maintained influence through a combination of political subjugation, economic leverage (through trade and famine relief), and cultural integration by adopting the Nsenga system of chieftaincies adapted to their own customs.\n"
     ]
    }
   ],
   "source": [
    "print(correct)"
   ]
  },
  {
   "cell_type": "code",
   "execution_count": 14,
   "metadata": {},
   "outputs": [
    {
     "name": "stdout",
     "output_type": "stream",
     "text": [
      "How did Undi's control over Nsenga territories likely manifest in practice?\n"
     ]
    }
   ],
   "source": [
    "print(query)"
   ]
  },
  {
   "cell_type": "code",
   "execution_count": 15,
   "metadata": {},
   "outputs": [],
   "source": [
    "from src.utilities.llm_models import get_llm_model_embedding\n",
    "\n",
    "embedder = get_llm_model_embedding()"
   ]
  },
  {
   "cell_type": "code",
   "execution_count": 16,
   "metadata": {},
   "outputs": [],
   "source": [
    "embeddings = embedder.embed_documents([\n",
    "    response[\"answer\"],\n",
    "    correct\n",
    "])"
   ]
  },
  {
   "cell_type": "code",
   "execution_count": 17,
   "metadata": {},
   "outputs": [
    {
     "data": {
      "text/plain": [
       "0.6740310174030234"
      ]
     },
     "execution_count": 17,
     "metadata": {},
     "output_type": "execute_result"
    }
   ],
   "source": [
    "import numpy as np\n",
    "\n",
    "def cosine_similarity(expected, proposed):\n",
    "    # Encode the input sentences to embeddings\n",
    "    embeddings = np.array(embedder.embed_documents([\n",
    "        expected,\n",
    "        proposed\n",
    "    ]))\n",
    "    \n",
    "    # Compute the dot product and norms\n",
    "    dot_product = np.dot(embeddings[0], embeddings[1])\n",
    "    norm_expected = np.linalg.norm(embeddings[0])\n",
    "    norm_proposed = np.linalg.norm(embeddings[1])\n",
    "    \n",
    "    # Compute cosine similarity\n",
    "    similarity = dot_product / (norm_expected * norm_proposed)\n",
    "    return similarity\n",
    "\n",
    "cosine_similarity(\n",
    "    correct,\n",
    "    response[\"answer\"],\n",
    ")"
   ]
  },
  {
   "cell_type": "code",
   "execution_count": null,
   "metadata": {},
   "outputs": [],
   "source": []
  }
 ],
 "metadata": {
  "kernelspec": {
   "display_name": ".venv",
   "language": "python",
   "name": "python3"
  },
  "language_info": {
   "codemirror_mode": {
    "name": "ipython",
    "version": 3
   },
   "file_extension": ".py",
   "mimetype": "text/x-python",
   "name": "python",
   "nbconvert_exporter": "python",
   "pygments_lexer": "ipython3",
   "version": "3.9.16"
  }
 },
 "nbformat": 4,
 "nbformat_minor": 2
}
