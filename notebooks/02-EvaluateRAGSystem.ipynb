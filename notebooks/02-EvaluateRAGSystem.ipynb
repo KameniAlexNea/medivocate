{
 "cells": [
  {
   "cell_type": "code",
   "execution_count": 1,
   "metadata": {},
   "outputs": [
    {
     "name": "stdout",
     "output_type": "stream",
     "text": [
      "/home/eak/Documents/AI/LLMChat/medivocate\n"
     ]
    }
   ],
   "source": [
    "%cd .."
   ]
  },
  {
   "cell_type": "code",
   "execution_count": 2,
   "metadata": {},
   "outputs": [],
   "source": [
    "import os\n",
    "from glob import glob\n",
    "from src.rag_pipeline.rag_system import RAGSystem"
   ]
  },
  {
   "cell_type": "code",
   "execution_count": 3,
   "metadata": {},
   "outputs": [],
   "source": [
    "docs_dir=\"data/docs\"\n",
    "persist_directory_dir=\"data/chroma_db\"\n",
    "batch_size=64\n",
    "\n",
    "# Initialize RAG system\n",
    "rag = RAGSystem(\n",
    "    docs_dir,\n",
    "    persist_directory_dir,\n",
    "    batch_size\n",
    ")\n",
    "\n",
    "if len(glob(os.path.join(persist_directory_dir, \"*/*.bin\"))):\n",
    "    rag.initialize_vector_store() # vector store initialized\n",
    "else:\n",
    "    # Load and index documents\n",
    "    documents = rag.load_documents()\n",
    "    rag.initialize_vector_store(documents) # documents"
   ]
  },
  {
   "cell_type": "code",
   "execution_count": 4,
   "metadata": {},
   "outputs": [
    {
     "data": {
      "text/plain": [
       "Dataset({\n",
       "    features: ['question_number', 'question_text', 'answer_choices', 'correct_answers', 'explanation', 'A', 'B', 'C', 'D', 'E'],\n",
       "    num_rows: 89782\n",
       "})"
      ]
     },
     "execution_count": 4,
     "metadata": {},
     "output_type": "execute_result"
    }
   ],
   "source": [
    "from datasets import load_dataset\n",
    "\n",
    "ds = load_dataset(\"alexneakameni/qa_africa\", split=\"train\")\n",
    "\n",
    "ds"
   ]
  },
  {
   "cell_type": "code",
   "execution_count": 5,
   "metadata": {},
   "outputs": [
    {
     "data": {
      "text/plain": [
       "{'question_number': 'c612edc8-f835-4a75-865e-aad8cfd64cb0_1',\n",
       " 'question_text': 'Quels étaient les principaux objectifs de la politique élaborée par Gallieni en 1897 ?',\n",
       " 'answer_choices': {'A': \"Favoriser l'autonomie politique des grandes régions de l'île et isoler le pouvoir centralisé merina\",\n",
       "  'B': \"Tout simplement profiter de l'autonomie pour effectuer la colonisation\",\n",
       "  'C': \"Isoliser l'ennemi principal et profiter de son autonomie pour effectuer la colonisation\",\n",
       "  'D': None,\n",
       "  'E': None},\n",
       " 'correct_answers': ['C'],\n",
       " 'explanation': \"Gallieni répondait à un «\\u2009triple objectif\\u2009: isoler et réduire l'ennemi principal, le pouvoir centralisé merina\\u2009; favoriser contre lui l'autonomie politique des grandes régions de l'île, selon le principe ‘diviser pour régner’\\u2009; profiter de cette autonomie pour effectuer la colonisation aux moindres frais. \",\n",
       " 'A': \"Favoriser l'autonomie politique des grandes régions de l'île et isoler le pouvoir centralisé merina\",\n",
       " 'B': \"Tout simplement profiter de l'autonomie pour effectuer la colonisation\",\n",
       " 'C': \"Isoliser l'ennemi principal et profiter de son autonomie pour effectuer la colonisation\",\n",
       " 'D': None,\n",
       " 'E': None}"
      ]
     },
     "execution_count": 5,
     "metadata": {},
     "output_type": "execute_result"
    }
   ],
   "source": [
    "ds[0]"
   ]
  },
  {
   "cell_type": "code",
   "execution_count": 6,
   "metadata": {},
   "outputs": [
    {
     "name": "stdout",
     "output_type": "stream",
     "text": [
      "\n",
      "Quels étaient les principaux objectifs de la politique élaborée par Gallieni en 1897 ?\n",
      "A. Favoriser l'autonomie politique des grandes régions de l'île et isoler le pouvoir centralisé merina\n",
      "B. Tout simplement profiter de l'autonomie pour effectuer la colonisation\n",
      "C. Isoliser l'ennemi principal et profiter de son autonomie pour effectuer la colonisation\n",
      "\n"
     ]
    }
   ],
   "source": [
    "responses = \"\\n\".join(\n",
    "    [k + \". \" + j for k, j in ds[0][\"answer_choices\"].items() if j is not None]\n",
    ")\n",
    "\n",
    "query = f\"\"\"\n",
    "{ds[0][\"question_text\"]}\n",
    "{responses}\n",
    "\"\"\"\n",
    "\n",
    "print(query)"
   ]
  },
  {
   "cell_type": "code",
   "execution_count": 7,
   "metadata": {},
   "outputs": [
    {
     "name": "stdout",
     "output_type": "stream",
     "text": [
      "Il n'y a pas de réponse directement associée dans le texte que vous avez fourni. Le texte discute plutôt des aspects historiques et économiques du commerce transatlantique d'esclaves, ainsi que des tendances de dépendance et de sous-développement dans certaines régions. Il n'y a aucune information sur la politique de Gallieni en 1897. Les options A, B et C ne sont pas soutenues par le texte fourni.\n"
     ]
    }
   ],
   "source": [
    "response = rag.query(query)\n",
    "print(response[\"answer\"])"
   ]
  },
  {
   "cell_type": "code",
   "execution_count": 8,
   "metadata": {},
   "outputs": [],
   "source": [
    "def get_question_answer(data: dict):\n",
    "    responses = \"\\n\".join(\n",
    "        [k + \". \" + j for k, j in data[\"answer_choices\"].items() if j is not None]\n",
    "    )\n",
    "\n",
    "    query = f\"\"\"\n",
    "    {data[\"question_text\"]}\n",
    "    {responses}\n",
    "    \"\"\"\n",
    "    return query, data[\"correct_answers\"], data[\"explanation\"]"
   ]
  },
  {
   "cell_type": "code",
   "execution_count": 9,
   "metadata": {},
   "outputs": [],
   "source": [
    "import random\n",
    "\n",
    "data = random.choice(ds)\n",
    "query, correct, explanation = get_question_answer(data)"
   ]
  },
  {
   "cell_type": "code",
   "execution_count": 10,
   "metadata": {},
   "outputs": [
    {
     "name": "stdout",
     "output_type": "stream",
     "text": [
      "Je n'ai pas de contexte pertinent dans les informations fournies pour répondre à cette question sur la capacité crânienne des types d'Homo. Les informations fournies concernent plutôt l'art africain et la traite négrière, sans aucune référence aux capacités crâniennes des différentes espèces d'Homo.\n"
     ]
    }
   ],
   "source": [
    "response = rag.query(query)\n",
    "print(response[\"answer\"])"
   ]
  },
  {
   "cell_type": "code",
   "execution_count": 11,
   "metadata": {},
   "outputs": [
    {
     "data": {
      "text/plain": [
       "['A']"
      ]
     },
     "execution_count": 11,
     "metadata": {},
     "output_type": "execute_result"
    }
   ],
   "source": [
    "correct"
   ]
  },
  {
   "cell_type": "code",
   "execution_count": 12,
   "metadata": {},
   "outputs": [
    {
     "name": "stdout",
     "output_type": "stream",
     "text": [
      "\n",
      "    Quelle est la capacité crânienne plus élevée connue pour le type Homo primitive\n",
      "    A. Homo erectus\n",
      "B. Homo habilis\n",
      "C. Homo neanderthalensis\n",
      "    \n"
     ]
    }
   ],
   "source": [
    "print(query)"
   ]
  },
  {
   "cell_type": "code",
   "execution_count": 13,
   "metadata": {},
   "outputs": [
    {
     "name": "stdout",
     "output_type": "stream",
     "text": [
      "C. That Africa was not a continent with historical significance\n",
      "\n",
      "This answer is inferred from the context provided, which mentions that Hegel's Philosophy of History did not consider Africa as an entity with its own history and destiny, suggesting that this was seen as a primary issue. The other options do not align with the given context.\n"
     ]
    }
   ],
   "source": [
    "query, correct, explanation = get_question_answer(random.choice(ds))\n",
    "\n",
    "response = rag.query(query)\n",
    "print(response[\"answer\"])"
   ]
  },
  {
   "cell_type": "code",
   "execution_count": 14,
   "metadata": {},
   "outputs": [
    {
     "data": {
      "text/plain": [
       "['C']"
      ]
     },
     "execution_count": 14,
     "metadata": {},
     "output_type": "execute_result"
    }
   ],
   "source": [
    "correct"
   ]
  },
  {
   "cell_type": "code",
   "execution_count": 15,
   "metadata": {},
   "outputs": [
    {
     "data": {
      "text/plain": [
       "\"Hegel's Philosophy of History has been criticized for its portrayal of Africa as not having a significant or valuable history.\""
      ]
     },
     "execution_count": 15,
     "metadata": {},
     "output_type": "execute_result"
    }
   ],
   "source": [
    "explanation"
   ]
  },
  {
   "cell_type": "code",
   "execution_count": 16,
   "metadata": {},
   "outputs": [
    {
     "name": "stdout",
     "output_type": "stream",
     "text": [
      "\n",
      "    What is the primary issue with Hegel's Philosophy of History regarding Africa?\n",
      "    A. That Europeans should prioritize studying their own history over the history of other continents\n",
      "B. That Africa had a unique and valuable history that needed to be studied\n",
      "C. That Africa was not a continent with historical significance\n",
      "    \n"
     ]
    }
   ],
   "source": [
    "print(query)"
   ]
  },
  {
   "cell_type": "code",
   "execution_count": 17,
   "metadata": {},
   "outputs": [
    {
     "name": "stdout",
     "output_type": "stream",
     "text": [
      "A. Gold and other precious minerals\n",
      "\n",
      "The passage indicates that in the 19th century, miners primarily relied on gold and other precious minerals as their primary source of income. While it mentions trade at the Salaga market and riverbank crops, these were not the main sources of income for miners during this period.\n"
     ]
    }
   ],
   "source": [
    "query, correct, explanation = get_question_answer(random.choice(ds))\n",
    "\n",
    "response = rag.query(query)\n",
    "print(response[\"answer\"])"
   ]
  },
  {
   "cell_type": "code",
   "execution_count": 18,
   "metadata": {},
   "outputs": [
    {
     "data": {
      "text/plain": [
       "['A']"
      ]
     },
     "execution_count": 18,
     "metadata": {},
     "output_type": "execute_result"
    }
   ],
   "source": [
    "correct"
   ]
  },
  {
   "cell_type": "code",
   "execution_count": 19,
   "metadata": {},
   "outputs": [
    {
     "data": {
      "text/plain": [
       "'Miners during the 19th century primarily worked for gold and other precious minerals, which were in high demand. The Salaga market was a major trading hub where merchants bought and sold various goods.'"
      ]
     },
     "execution_count": 19,
     "metadata": {},
     "output_type": "execute_result"
    }
   ],
   "source": [
    "explanation"
   ]
  },
  {
   "cell_type": "code",
   "execution_count": 20,
   "metadata": {},
   "outputs": [
    {
     "name": "stdout",
     "output_type": "stream",
     "text": [
      "The main objective of the first phase (1965-1969) of UNESCO's work on African history was to conduct documentation and planning for the publication. This involved conducting field activities such as collecting oral tradition, establishing regional centers for oral tradition documentation, gathering unpublished manuscripts in Arabic and \"ajami\" (African scripts written in Arabic), inventorying archives, and preparing a Guide for sources of African history based on archives and libraries from European countries published over nine volumes.\n"
     ]
    }
   ],
   "source": [
    "query = \"What were the main objectives of the first phase (1965-1969) of UNESCO’s work on African history?\"\n",
    "answer = \"\"\"\n",
    "The main objectives of the first phase were:\n",
    "\n",
    "Documentation and planning for the project.\n",
    "Conducting operational activities such as collecting oral traditions, creating regional documentation centers for oral tradition, and collecting unpublished manuscripts in Arabic and \"ajami\" (African languages written in Arabic script).\n",
    "Inventorying archives and preparing a Guide des sources de l’histoire de l’Afrique, which was based on European archives and libraries and published in nine volumes.\n",
    "Organizing meetings where African and international specialists discussed methodology and outlined the project after examining the available sources.\n",
    "\"\"\"\n",
    "\n",
    "response = rag.query(query)\n",
    "print(response[\"answer\"])"
   ]
  },
  {
   "cell_type": "code",
   "execution_count": null,
   "metadata": {},
   "outputs": [],
   "source": []
  }
 ],
 "metadata": {
  "kernelspec": {
   "display_name": ".venv",
   "language": "python",
   "name": "python3"
  },
  "language_info": {
   "codemirror_mode": {
    "name": "ipython",
    "version": 3
   },
   "file_extension": ".py",
   "mimetype": "text/x-python",
   "name": "python",
   "nbconvert_exporter": "python",
   "pygments_lexer": "ipython3",
   "version": "3.9.16"
  }
 },
 "nbformat": 4,
 "nbformat_minor": 2
}
