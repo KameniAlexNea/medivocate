{
 "cells": [
  {
   "cell_type": "code",
   "execution_count": 1,
   "metadata": {},
   "outputs": [
    {
     "name": "stdout",
     "output_type": "stream",
     "text": [
      "/home/eak/Documents/AI/LLMChat/medivocate\n"
     ]
    }
   ],
   "source": [
    "%cd .."
   ]
  },
  {
   "cell_type": "raw",
   "metadata": {
    "vscode": {
     "languageId": "raw"
    }
   },
   "source": [
    "# Test code for generating pages of documents\n",
    "\n",
    "import pymupdf\n",
    "\n",
    "doc = pymupdf.open(\"data/Volume V - LAfrique du XVIe au XVIIIe siecle.pdf\") # open a document\n",
    "\n",
    "doc.page_count\n",
    "\n",
    "import os\n",
    "\n",
    "os.makedirs(\"data/docs\", exist_ok=True)\n",
    "for i, page in enumerate(doc.pages()):\n",
    "    with open(os.path.join(f\"data/docs/page{i}.txt\"), \"wb\") as file:\n",
    "        file.write(page.get_text().encode(\"utf8\"))"
   ]
  },
  {
   "cell_type": "code",
   "execution_count": 2,
   "metadata": {},
   "outputs": [],
   "source": [
    "import os\n",
    "from glob import glob\n",
    "from src.rag_pipeline.rag_system import RAGSystem"
   ]
  },
  {
   "cell_type": "code",
   "execution_count": 3,
   "metadata": {},
   "outputs": [
    {
     "name": "stderr",
     "output_type": "stream",
     "text": [
      "Processing documents: 100%|██████████| 61/61 [00:45<00:00,  1.33it/s]\n"
     ]
    }
   ],
   "source": [
    "docs_dir=\"data/docs\"\n",
    "persist_directory_dir=\"data/chroma_db\"\n",
    "batch_size=64\n",
    "\n",
    "# Initialize RAG system\n",
    "rag = RAGSystem(\n",
    "    docs_dir,\n",
    "    persist_directory_dir,\n",
    "    batch_size\n",
    ")\n",
    "\n",
    "if len(glob(os.path.join(persist_directory_dir, \"*/*.bin\"))):\n",
    "    rag.initialize_vector_store() # vector store initialized\n",
    "else:\n",
    "    # Load and index documents\n",
    "    documents = rag.load_documents()\n",
    "    rag.initialize_vector_store(documents) # documents"
   ]
  },
  {
   "cell_type": "code",
   "execution_count": 4,
   "metadata": {},
   "outputs": [
    {
     "name": "stdout",
     "output_type": "stream",
     "text": [
      "La bonne réponse est b) Ils pouvaient acheter en plus grande quantité et vendre à meilleur prix.\n",
      "\n",
      "Voici une explication détaillée pour clarifier cette réponse :\n",
      "\n",
      "1. Les marchands français, anglais et hollandais étaient souvent soutenus par des chefs africains locaux qui leur fournissaient des ressources locales et des contacts dans les zones de commerce. Cependant, cela n'explique pas pourquoi ils étaient plus compétitifs que les Portugais.\n",
      "\n",
      "2. Ils disposaient d'un appareil administratif plus efficace ne signifie pas nécessairement qu'ils étaient plus compétitifs en Afrique. En fait, l'appareil administratif des Portugais était déjà très développé et considéré comme un atout dans leur commerce colonial.\n",
      "\n",
      "3. Les routes commerciales mieux établies n'explique pas non plus pourquoi ils étaient plus compétitifs que les Portugais. En effet, la Côte d'Ivoire avait une infrastructure de transport bien développée pour le commerce avec l'Afrique du Sud et l'Europe.\n",
      "\n",
      "4. La réponse correcte est qu'ils pouvaient acheter en plus grande quantité et vendre à meilleur prix. Les marchands français, anglais et hollandais avaient souvent des accords commerciaux plus avantageux avec les chefs africains locaux, ce qui leur permettait de se procurer des ressources locales à un coût moindre. De plus, ils vendaient leurs produits en Afrique à meilleur prix grâce à la concurrence croissante entre eux et aux réductions d'impôts que certains souverains locaux accordaient pour encourager leur commerce.\n",
      "\n",
      "Ces facteurs combinés ont rendu les marchands français, anglais et hollandais plus compétitifs sur le marché africain au XVIe siècle.\n"
     ]
    }
   ],
   "source": [
    "QUESTION = \"\"\"\n",
    "Pourquoi les marchands français, anglais et hollandais étaient-ils plus compétitifs que les Portugais en Afrique au XVIe siècle ?\n",
    "a) Ils disposaient d’un appareil administratif plus efficace.\n",
    "b) Ils pouvaient acheter en plus grande quantité et vendre à meilleur prix.\n",
    "c) Ils étaient soutenus par des chefs africains locaux.\n",
    "d) Ils utilisaient des routes commerciales mieux établies.\n",
    "\"\"\"\n",
    "\n",
    "\n",
    "# Query the system\n",
    "response = rag.query(QUESTION)\n",
    "print(response[\"answer\"])\n",
    "# print(\"\\nSources:\")\n",
    "# for source in response[\"source_documents\"]:\n",
    "#     print(f\"- {source[:200]}...\")"
   ]
  },
  {
   "cell_type": "code",
   "execution_count": 5,
   "metadata": {},
   "outputs": [
    {
     "name": "stdout",
     "output_type": "stream",
     "text": [
      "En Afrique de l'Ouest, plusieurs langues sont parlées. Cependant, la question ne fournit pas assez d'informations pour déterminer exactement quelles langues sont les plus importantes ou couramment utilisées dans cette région. Il y a des langues comme le wolof, le haoussa, le créole bissau-guinéen et de nombreux autres qui sont parlés dans différentes parties de l'Afrique de l'Ouest. Pour obtenir une réponse précise, il faudrait plus d'informations spécifiques sur la région ou les groupes linguistiques concernés.\n"
     ]
    }
   ],
   "source": [
    "# Query the system\n",
    "response = rag.query(\"Quelles sont les langues parlées en Afrique de L'ouest\")\n",
    "print(response[\"answer\"])\n",
    "\n",
    "\n",
    "# print(\"\\nSources:\")\n",
    "# for source in response[\"source_documents\"]:\n",
    "#     print(f\"- {source[:200]}...\")"
   ]
  },
  {
   "cell_type": "code",
   "execution_count": 6,
   "metadata": {},
   "outputs": [
    {
     "name": "stdout",
     "output_type": "stream",
     "text": [
      "Le royaume du Fon du Dahomey, situé dans l'actuel Ghana, était un acteur important dans la traite négrière. Il fournissait activement des esclaves aux négriers pour le marché de l'esclavage. Les Aro et leurs alliés mercenaires jouaient également un rôle similaire en pays Igbo.\n",
      "\n",
      "Ces communautés semblaient avoir bénéficié de la traite, mais cela a eu des conséquences néfastes sur leur développement social, politique et moral. En effet, ils ont été confrontés à une violence accrue due au trafic d'esclaves, ce qui a contribué à l'effondrement de leurs systèmes traditionnels.\n",
      "\n",
      "Il est important de noter que cette participation active aux activités de la traite négrière a eu des répercussions profondes sur ces sociétés, affectant leur structure sociale et politique.\n"
     ]
    }
   ],
   "source": [
    "# Query the system\n",
    "response = rag.query(\"Parle moi du royaume de fon du Dahomey et ses états voisins\")\n",
    "print(response[\"answer\"])\n",
    "\n",
    "# print(\"\\nSources:\")\n",
    "# for source in response[\"source_documents\"]:\n",
    "#     print(f\"- {source[:200]}...\")"
   ]
  }
 ],
 "metadata": {
  "kernelspec": {
   "display_name": ".venv",
   "language": "python",
   "name": "python3"
  },
  "language_info": {
   "codemirror_mode": {
    "name": "ipython",
    "version": 3
   },
   "file_extension": ".py",
   "mimetype": "text/x-python",
   "name": "python",
   "nbconvert_exporter": "python",
   "pygments_lexer": "ipython3",
   "version": "3.9.16"
  }
 },
 "nbformat": 4,
 "nbformat_minor": 2
}
