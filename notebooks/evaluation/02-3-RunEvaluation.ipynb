{
 "cells": [
  {
   "cell_type": "code",
   "execution_count": 1,
   "metadata": {},
   "outputs": [
    {
     "name": "stdout",
     "output_type": "stream",
     "text": [
      "/home/eak/Documents/AI/LLMChat/medivocate\n"
     ]
    }
   ],
   "source": [
    "%cd ../.."
   ]
  },
  {
   "cell_type": "code",
   "execution_count": 2,
   "metadata": {},
   "outputs": [],
   "source": [
    "import os\n",
    "from glob import glob\n",
    "from src.rag_pipeline.rag_system import RAGSystem"
   ]
  },
  {
   "cell_type": "code",
   "execution_count": 3,
   "metadata": {},
   "outputs": [],
   "source": [
    "docs_dir=\"data/docs\"\n",
    "persist_directory_dir=\"data/chroma_db\"\n",
    "batch_size=64\n",
    "\n",
    "# Initialize RAG system\n",
    "rag = RAGSystem(\n",
    "    docs_dir,\n",
    "    persist_directory_dir,\n",
    "    batch_size\n",
    ")\n",
    "\n",
    "if len(glob(os.path.join(persist_directory_dir, \"*/*.bin\"))):\n",
    "    rag.initialize_vector_store() # vector store initialized\n",
    "else:\n",
    "    # Load and index documents\n",
    "    documents = rag.load_documents()\n",
    "    rag.initialize_vector_store(documents) # documents"
   ]
  },
  {
   "cell_type": "code",
   "execution_count": 4,
   "metadata": {},
   "outputs": [
    {
     "data": {
      "text/plain": [
       "45"
      ]
     },
     "execution_count": 4,
     "metadata": {},
     "output_type": "execute_result"
    }
   ],
   "source": [
    "import os\n",
    "import glob\n",
    "import re\n",
    "\n",
    "def parse_questions_answers_with_regex_file(file):\n",
    "    question_pattern = re.compile(r\"<question>(.*?)</question>\", re.DOTALL)\n",
    "    answer_pattern = re.compile(r\"<answer>(.*?)</answer>\", re.DOTALL)\n",
    "    qa_list = []\n",
    "\n",
    "    try:\n",
    "        with open(file, \"r\", encoding=\"utf-8\") as f:\n",
    "            content = f.read()\n",
    "        \n",
    "        # Find all questions and answers in the file\n",
    "        questions = question_pattern.findall(content)\n",
    "        answers = answer_pattern.findall(content)\n",
    "\n",
    "        assert len(questions) == len(answers)\n",
    "\n",
    "        # Pair questions and answers\n",
    "        qa_list.extend(zip(map(str.strip, questions), map(str.strip, answers)))\n",
    "    except Exception as e:\n",
    "        print(f\"Error processing file {file}: {e}\")\n",
    "    return qa_list\n",
    "\n",
    "def parse_questions_answers_with_regex(folder_path):\n",
    "    \"\"\"\n",
    "    Parse question-answer pairs from XML-like text files using regex.\n",
    "\n",
    "    Args:\n",
    "        folder_path (str): Path to the folder containing XML-like text files.\n",
    "\n",
    "    Returns:\n",
    "        list of tuples: Each tuple contains a question and its corresponding answer.\n",
    "    \"\"\"\n",
    "    # List all text files in the folder\n",
    "    files = glob.glob(os.path.join(folder_path, \"*.txt\"))\n",
    "    qa_list = []\n",
    "\n",
    "    for file in files:\n",
    "        qa_list.extend(parse_questions_answers_with_regex_file(file))\n",
    "\n",
    "    return qa_list\n",
    "\n",
    "\n",
    "# Parse the question-answer pairs\n",
    "questions_answers = parse_questions_answers_with_regex(\"data/evaluation\")\n",
    "\n",
    "len(questions_answers)"
   ]
  },
  {
   "cell_type": "code",
   "execution_count": 5,
   "metadata": {},
   "outputs": [],
   "source": [
    "from src.utilities.llm_models import get_llm_model_embedding\n",
    "\n",
    "embedder = get_llm_model_embedding()\n",
    "\n",
    "import numpy as np\n",
    "\n",
    "def cosine_similarity(expected, proposed):\n",
    "    # Encode the input sentences to embeddings\n",
    "    embeddings = np.array(embedder.embed_documents([\n",
    "        expected,\n",
    "        proposed\n",
    "    ]))\n",
    "    \n",
    "    # Compute the dot product and norms\n",
    "    dot_product = np.dot(embeddings[0], embeddings[1])\n",
    "    norm_expected = np.linalg.norm(embeddings[0])\n",
    "    norm_proposed = np.linalg.norm(embeddings[1])\n",
    "    \n",
    "    # Compute cosine similarity\n",
    "    similarity = dot_product / (norm_expected * norm_proposed)\n",
    "    return similarity\n"
   ]
  },
  {
   "cell_type": "code",
   "execution_count": 6,
   "metadata": {},
   "outputs": [
    {
     "name": "stderr",
     "output_type": "stream",
     "text": [
      "100%|██████████| 45/45 [03:15<00:00,  4.35s/it]\n"
     ]
    }
   ],
   "source": [
    "from tqdm import tqdm\n",
    "\n",
    "scores = []\n",
    "for query, correct in tqdm(questions_answers):\n",
    "    try:\n",
    "        response = rag.query(query)\n",
    "        score = cosine_similarity(\n",
    "            correct,\n",
    "            response[\"answer\"],\n",
    "        )\n",
    "        scores.append({\n",
    "            \"score\": float(score),\n",
    "            \"correct\": correct,\n",
    "            \"answer\": response[\"answer\"],\n",
    "            \"query\": query\n",
    "        })\n",
    "    except:\n",
    "        pass"
   ]
  },
  {
   "cell_type": "code",
   "execution_count": 7,
   "metadata": {},
   "outputs": [
    {
     "data": {
      "text/plain": [
       "[{'score': 0.7327400757557035,\n",
       "  'correct': 'The specialization of certain groups in specific crafts allowed for a more diverse range of products, from textiles and jewelry to agricultural surplus and artisanal goods, which supported both local consumption and trade.',\n",
       "  'answer': 'Specialization in crafts such as tanning, weaving, and pottery contributed significantly to economic diversity within the Hawsa region by offering a range of products that could be traded. These crafts provided raw materials for other industries and created demand for their finished goods. For instance, leather from tanned hides was used in various clothing items, while woven fabrics were highly valued due to their quality. Pottery, with its diverse uses including storage vessels, cooking pots, and decorative items, also played a crucial role in the economy by meeting local needs and potentially being traded for other goods. This specialization allowed the Hawsa region to diversify its economic activities beyond agriculture, fostering a more robust and varied economy.\\n\\nThe answer elaborates on how these crafts not only supported each other but also created opportunities for trade with neighboring regions or within the same community, thereby enhancing economic diversity.',\n",
       "  'query': 'How did specialization in crafts like tanning, weaving, and pottery contribute to economic diversity within the Hawsa region?'},\n",
       " {'score': 0.6865159795299403,\n",
       "  'correct': 'The Kebbi region focused on tanning, weaving, and pottery, while the Zamfara region specialized in silver jewelry and pottery. Both areas contributed to the regional economy through their unique crafts and products.',\n",
       "  'answer': \"Based on the information provided in the text, it does not specifically detail the roles of the Kebbi and Zamfara regions within the Hausa (Hawsa) economy. The passage discusses various aspects of Hausa history and economic activities but does not provide specific information about these two regions' contributions to the Hausa economy.\",\n",
       "  'query': 'What role did the Kebbi and Zamfara regions play in the Hawsa economy based on the information provided?'},\n",
       " {'score': 0.6521378203439462,\n",
       "  'correct': 'The economic growth led to increased state revenues as a result of higher taxes on various goods, such as those produced by skilled artisans like tanners and weavers. This allowed for further development and support within the region.',\n",
       "  'answer': 'According to the text, the economic growth of the Hawsa region had a significant positive impact on state revenues. The text states that \"the prosperity of the Hausaland economy in general and the Hawsa region in particular provided the state with substantial revenue.\" This suggests that as trade and agricultural activities flourished in the region, it contributed to increased tax revenues for the state.',\n",
       "  'query': 'How did the economic growth of the Hawsa region impact state revenues according to the text?'}]"
      ]
     },
     "execution_count": 7,
     "metadata": {},
     "output_type": "execute_result"
    }
   ],
   "source": [
    "scores[:3]"
   ]
  },
  {
   "cell_type": "code",
   "execution_count": 8,
   "metadata": {},
   "outputs": [],
   "source": [
    "import json\n",
    "\n",
    "json.dump(scores, open(\"data/evaluation_result.json\", \"w\"))"
   ]
  },
  {
   "cell_type": "code",
   "execution_count": 9,
   "metadata": {},
   "outputs": [
    {
     "data": {
      "text/plain": [
       "0.6354498400520328"
      ]
     },
     "execution_count": 9,
     "metadata": {},
     "output_type": "execute_result"
    }
   ],
   "source": [
    "np.mean([\n",
    "    score[\"score\"] for score in scores\n",
    "])"
   ]
  },
  {
   "cell_type": "code",
   "execution_count": 10,
   "metadata": {},
   "outputs": [
    {
     "data": {
      "text/plain": [
       "0.8211647458149876"
      ]
     },
     "execution_count": 10,
     "metadata": {},
     "output_type": "execute_result"
    }
   ],
   "source": [
    "np.max([\n",
    "    score[\"score\"] for score in scores\n",
    "])"
   ]
  },
  {
   "cell_type": "code",
   "execution_count": 11,
   "metadata": {},
   "outputs": [
    {
     "data": {
      "text/plain": [
       "0.2698309741436685"
      ]
     },
     "execution_count": 11,
     "metadata": {},
     "output_type": "execute_result"
    }
   ],
   "source": [
    "np.min([\n",
    "    score[\"score\"] for score in scores\n",
    "])"
   ]
  },
  {
   "cell_type": "code",
   "execution_count": null,
   "metadata": {},
   "outputs": [],
   "source": []
  }
 ],
 "metadata": {
  "kernelspec": {
   "display_name": ".venv",
   "language": "python",
   "name": "python3"
  },
  "language_info": {
   "codemirror_mode": {
    "name": "ipython",
    "version": 3
   },
   "file_extension": ".py",
   "mimetype": "text/x-python",
   "name": "python",
   "nbconvert_exporter": "python",
   "pygments_lexer": "ipython3",
   "version": "3.9.16"
  }
 },
 "nbformat": 4,
 "nbformat_minor": 2
}
